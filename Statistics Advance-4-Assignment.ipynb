{
 "cells": [
  {
   "cell_type": "markdown",
   "id": "27a9f4a6",
   "metadata": {},
   "source": [
    "# Q1: What is the difference between a t-test and a z-test? Provide an example scenario where you would use each type of test."
   ]
  },
  {
   "cell_type": "raw",
   "id": "f7b24462",
   "metadata": {},
   "source": [
    "T-test:\n",
    "\n",
    "The t-test is typically used when you have a small sample size (typically less than 30) and the population standard deviation is unknown. It is well-suited for situations where you are comparing two groups to determine if there is a statistically significant difference between their means.\n",
    "\n",
    "Example scenario: Let's say you are a researcher studying the effect of a new drug on blood pressure. You have a sample of 20 patients who took the drug, and you want to determine if it significantly lowers blood pressure compared to a control group that didn't take the drug. In this case, you would use a t-test because you have a small sample size and you don't know the population standard deviation of blood pressure.\n",
    "\n",
    "\n",
    "Z-test:\n",
    "\n",
    "The z-test is used when you have a large sample size (typically more than 30) and/or when you know the population standard deviation. It is often used for hypothesis testing involving means.\n",
    "\n",
    "\n",
    "Example scenario: Let's say you work for a manufacturing company, and you are interested in whether a new manufacturing process has improved the quality of a product. You collect a large sample of 500 products manufactured using the new process and another 500 products using the old process. You know the population standard deviation of product quality based on historical data. In this case, you would use a z-test because you have a large sample size, and you know the population standard deviation."
   ]
  },
  {
   "cell_type": "code",
   "execution_count": null,
   "id": "bbcbd210",
   "metadata": {},
   "outputs": [],
   "source": []
  },
  {
   "cell_type": "markdown",
   "id": "31c772f5",
   "metadata": {},
   "source": [
    "## Q2: Differentiate between one-tailed and two-tailed tests."
   ]
  },
  {
   "cell_type": "markdown",
   "id": "9b6f2184",
   "metadata": {},
   "source": [
    "`One-tailed tests and two-tailed tests are two types of hypothesis tests used in statistics to make decisions about population parameters based on sample data.`\n",
    "\n",
    "\n",
    "A test of any statistical hypothesis, where the alternative hypothesis is one-tailed either right-tailed or left-tailed.\n",
    "A test of a statistical hypothesis, where the alternative hypothesis is two-tailed\n",
    "\n",
    "\n",
    "For one-tailed, we use either > or < sign for the alternative hypothesis.\n",
    "For two-tailed, we use ≠ sign for the alternative hypothesis.\n",
    "\n",
    "\n",
    "Critical region lies entirely on either the right side or left side of the sampling distribution\n",
    "Critical region is given by the portion of the area lying in both the tails of the probability curve of the test statistic.\n",
    "\n",
    "\n",
    "Here, the Entire level of significance (α) i.e. 5% has either in the left tail or right tail.\t\n",
    "It splits the level of significance (α) into half."
   ]
  },
  {
   "cell_type": "code",
   "execution_count": null,
   "id": "9da6fb8b",
   "metadata": {},
   "outputs": [],
   "source": []
  },
  {
   "cell_type": "markdown",
   "id": "04ef0bb8",
   "metadata": {},
   "source": [
    "# Q3: Explain the concept of Type 1 and Type 2 errors in hypothesis testing. Provide an example scenario for each type of error."
   ]
  },
  {
   "cell_type": "markdown",
   "id": "73afdc7c",
   "metadata": {},
   "source": [
    "Type 1 Error:- A Type 1 error occurs when you reject a null hypothesis that is actually true\n",
    "The probability of making a Type 1 error is denoted by alpha (α), and it is the chosen significance level (e.g., 0.05 or 5%) in hypothesis testing.\n",
    "\n",
    "\n",
    "Suppose you are conducting a medical study to test a new drug's effectiveness in reducing cholesterol levels. Your null hypothesis (H0) is that the drug has no effect, i.e., it does not reduce cholesterol levels. You set a significance level of 0.05 (α = 0.05). After conducting the study and analyzing the data, you find a small but statistically significant decrease in cholesterol levels in the group taking the drug. You reject the null hypothesis and conclude that the drug is effective. However, it turns out that the drug has no actual effect on cholesterol levels, and your rejection of the null hypothesis was a Type 1 error.\n",
    "\n",
    "\n",
    "\n",
    "\n",
    "Type 2 Error:---A Type 2 error occurs when you fail to reject a null hypothesis that is actually false\n",
    "The probability of making a Type 2 error is denoted by beta (β).\n",
    "\n",
    "Type 2 Error: You conduct the test on a patient who actually has the disease, but the test result is negative (fails to detect the disease). You fail to reject the null hypothesis and conclude that the patient does not have the disease when they do.\n",
    "\n",
    "\n",
    "outcome:- We Reject the Null hypothesis when in reality It is True--- Type 1 Error(False Positive)\n",
    " \n",
    "putcome2:- We Reject the Null hypothesis when in reality it is False:--- Type 2 Error(False Negative)"
   ]
  },
  {
   "cell_type": "code",
   "execution_count": null,
   "id": "8cc9f1df",
   "metadata": {},
   "outputs": [],
   "source": []
  },
  {
   "cell_type": "markdown",
   "id": "1ecf36dd",
   "metadata": {},
   "source": [
    "# Q4: Explain Bayes's theorem with an example."
   ]
  },
  {
   "cell_type": "markdown",
   "id": "d3fd4e53",
   "metadata": {},
   "source": [
    "Bayes' Theorem states that the conditional probability of an event, based on the occurrence of another event, is equal to the likelihood of the second event given the first event multiplied by the probability of the first event.\n",
    "\n",
    "\n",
    "\n",
    "In email spam filters, Bayes's theorem is used to classify emails as either spam or not spam.\n",
    "\n",
    "Meteorologists use Bayesian methods in weather forecasting. "
   ]
  },
  {
   "cell_type": "code",
   "execution_count": null,
   "id": "9a3955d7",
   "metadata": {},
   "outputs": [],
   "source": []
  },
  {
   "cell_type": "markdown",
   "id": "848430d2",
   "metadata": {},
   "source": [
    "# Q5: What is a confidence interval? How to calculate the confidence interval, explain with an example."
   ]
  },
  {
   "cell_type": "markdown",
   "id": "29d4c7fe",
   "metadata": {},
   "source": [
    "confidence interval shows the probability that a parameter will fall between a pair of values around the mean. Confidence intervals show the degree of uncertainty or certainty in a sampling method. They are constructed using confidence levels of 95% or 99%.\n",
    "\n",
    "Suppose you work for a coffee shop chain, and you want to estimate the average daily coffee consumption of your customers. You randomly select a sample of 30 customers and record their daily coffee consumption in ounces. The sample mean (x) is 12 ounces, and the sample standard deviation (s) is 2 ounces.\n",
    "\n",
    "Ans:-For a confidence interval for the population mean (μ) when the population standard deviation (σ) is unknown (use t-score):\n",
    "and confidence level is 95%(0.95)\n",
    "1-0.95=0.05\n",
    "\n",
    "Then find the Marginal Of Error putting the formula t-score \n",
    "\n",
    "and then find................"
   ]
  },
  {
   "cell_type": "code",
   "execution_count": null,
   "id": "c3899bef",
   "metadata": {},
   "outputs": [],
   "source": []
  },
  {
   "cell_type": "markdown",
   "id": "5fb85ca8",
   "metadata": {},
   "source": [
    "# Q6. Use Bayes' Theorem to calculate the probability of an event occurring given prior knowledge of the event's probability and new evidence. Provide a sample problem and solution."
   ]
  },
  {
   "cell_type": "markdown",
   "id": "3caf054f",
   "metadata": {},
   "source": [
    "Bayes' Theorem is a fundamental principle in probability theory that allows us to update our beliefs about the probability of an event occurring based on new evidence. It's commonly used in statistics, machine learning, and various fields to make probabilistic inferences. The theorem can be stated as follows:\n",
    "\n",
    "\n",
    "P(A∣B)=  P(B/A)⋅P(A)/P(B)\n",
    "\n",
    "\n",
    "\n",
    "QUESTION:-- A bag I contains 4 white and 6 black balls while another Bag II contains 4 white and 3 black balls. One ball is drawn at random from one of the bags, and it is found to be black. Find the probability that it was drawn from Bag I?\n",
    "\n",
    "\n",
    "ANS:--- \n",
    "Let E1 be the event of choosing bag I, E2 the event of choosing bag II, and A be the event of drawing a black ball.\n",
    "\n",
    "Then,\n",
    "\n",
    "P(E1) = P(E2) = 1/2\n",
    "Also, P(A/E1) = P(drawing a black ball from Bag I) = 6/10 = 3/5\n",
    "\n",
    "P(A/E2) = P(drawing a black ball from Bag II) = 3/7\n",
    "\n",
    "By using Bayes’ theorem, the probability of drawing a black ball from bag I out of two bags,\n",
    "\n",
    "p(E1/A) = P(E1)P(A/E1)/P(E1)P(A/E1)+P(E2)P(A/E2)\n",
    "\n",
    "\n",
    "= 1/2+3/5/1/2.3/5+1/2.3/7 = 7/12"
   ]
  },
  {
   "cell_type": "code",
   "execution_count": null,
   "id": "d74667fb",
   "metadata": {},
   "outputs": [],
   "source": []
  },
  {
   "cell_type": "markdown",
   "id": "883c3514",
   "metadata": {},
   "source": [
    "# Q7. Calculate the 95% confidence interval for a sample of data with a mean of 50 and a standard deviation of 5. Interpret the results."
   ]
  },
  {
   "cell_type": "raw",
   "id": "3eb59eaf",
   "metadata": {},
   "source": [
    "o calculate a 95% confidence interval for a sample of data with a mean of 50 and a standard deviation of 5, you can use the formula for the confidence interval for a population mean when the population standard deviation is known. The formula is:\n",
    "\n",
    "Confidence Interval=Sample Mean± (z-score/√n * Population standard deviation)\n",
    "\n",
    "let sample size = 30\n",
    "sample mean =50\n",
    "standard deviation = 5\n",
    "Z-Score for a 95% confidence interval\n",
    "the critical Z-value is approximately 1.96.\n",
    "\n",
    "Now, let's calculate the confidence interval:\n",
    "\n",
    "lower Confidence Inteval  = 50- 1.96/√30*5 = approximately 48.2115\n",
    "\n",
    "higher Confidence Interval  = 50+1.96/√30*5 = approximately 51.7885\n",
    "\n",
    "The 95% confidence interval for the sample mean is approximately (48.2115, 51.7885).\n",
    "\n",
    "\n",
    "\n",
    "Interpretation:\n",
    "This means that we are 95% confident that the true population mean falls within the interval (48.2115, 51.7885). In other words, if you were to draw multiple random samples from the same population and calculate a 95% confidence interval for each sample, you would expect that approximately 95% of these intervals would contain the true population mean of the data. It provides a range of values within which we believe the population mean is likely to be found."
   ]
  },
  {
   "cell_type": "code",
   "execution_count": null,
   "id": "59be270f",
   "metadata": {},
   "outputs": [],
   "source": []
  },
  {
   "cell_type": "markdown",
   "id": "c04faf88",
   "metadata": {},
   "source": [
    "# Q8. What is the margin of error in a confidence interval? How does sample size affect the margin of error? Provide an example of a scenario where a larger sample size would result in a smaller margin of error."
   ]
  },
  {
   "cell_type": "raw",
   "id": "8ad92ea4",
   "metadata": {},
   "source": [
    "he margin of error (MOE) in a confidence interval is a measure of the range within which we believe the true population parameter (such as the population mean or proportion) is likely to fall. It represents the degree of uncertainty associated with our estimate. The MOE is typically expressed as a positive value and is added and subtracted from the point estimate (sample statistic) to form the confidence interval\n",
    "\n",
    "\n",
    "Marginal of Error  = Z* Population Standard Deviation/√n\n",
    "\n",
    "\n",
    "\n",
    "Here's how sample size affects the margin of error:\n",
    "\n",
    "Larger Sample Size: Increasing the sample size (n) tends to result in a smaller margin of error. This is because as the sample size gets larger, the standard error of the sample mean (the denominator in the formula) decreases. When the standard error is smaller, the margin of error is smaller, which means that the confidence interval becomes narrower.\n",
    "\n",
    "Smaller Sample Size: Conversely, if the sample size is small, the margin of error tends to be larger. With a smaller sample size, there is more uncertainty about the sample estimate's accuracy, so the margin of error needs to be wider to accommodate this uncertainty.\n",
    "\n",
    "\n",
    "For example:---------------\n",
    "Scenario: You are conducting a political poll to estimate the proportion of voters in a city who support a particular candidate. You want to construct a 95% confidence interval for this proportion.\n",
    "\n",
    "In the first scenario, you survey 100 randomly selected voters in the city.\n",
    "In the second scenario, you survey 1,000 randomly selected voters in the same city.\n",
    "Assuming the level of confidence (the Z-score) and the population standard deviation (if known) are the same for both scenarios, the larger sample size (1,000) in the second scenario will result in a smaller margin of error compared to the first scenario (100). This means that the confidence interval in the second scenario will be narrower, and you will have greater confidence that the true proportion of voters supporting the candidate falls within a tighter range."
   ]
  },
  {
   "cell_type": "code",
   "execution_count": null,
   "id": "6bc509a8",
   "metadata": {},
   "outputs": [],
   "source": []
  },
  {
   "cell_type": "markdown",
   "id": "41ccf3f6",
   "metadata": {},
   "source": [
    "# Q9. Calculate the z-score for a data point with a value of 75, a population mean of 70, and a population standard deviation of 5. Interpret the results"
   ]
  },
  {
   "cell_type": "raw",
   "id": "2624484c",
   "metadata": {},
   "source": [
    "To calculate the Z-score for a data point with a value of 75, a population mean of 70, and a population standard deviation of 5, you can use the following formula for the Z-score:\n",
    "\n",
    "Z = X - population mean/std dev = 75-70/5 = 5/5 =1\n",
    "The Z-score for the data point with a value of 75 is 1.\n",
    "\n",
    "Interpretation:\n",
    "The Z-score measures how many standard deviations a data point is away from the population mean. In this case, a Z-score of 1 indicates that the data point with a value of 75 is one standard deviation above the population mean of 70. This means that the data point is higher than the average value by an amount equal to the population standard deviation. It helps you understand where this data point stands in relation to the rest of the data in the population in terms of its deviation from the mean."
   ]
  },
  {
   "cell_type": "code",
   "execution_count": null,
   "id": "235b2a58",
   "metadata": {},
   "outputs": [],
   "source": []
  },
  {
   "cell_type": "markdown",
   "id": "15f86832",
   "metadata": {},
   "source": [
    "# Q10. In a study of the effectiveness of a new weight loss drug, a sample of 50 participants lost an average of 6 pounds with a standard deviation of 2.5 pounds. Conduct a hypothesis test to determine if the drug is significantly effective at a 95% confidence level using a t-test."
   ]
  },
  {
   "cell_type": "code",
   "execution_count": 7,
   "id": "71ba7aad",
   "metadata": {},
   "outputs": [
    {
     "name": "stdout",
     "output_type": "stream",
     "text": [
      "Sample Mean: 6\n",
      "T-Statistic: nan\n",
      "P-Value: nan\n",
      "Fail to reject the null hypothesis. The drug is not significantly effective.\n"
     ]
    },
    {
     "name": "stderr",
     "output_type": "stream",
     "text": [
      "E:\\anaconda\\lib\\site-packages\\scipy\\stats\\_axis_nan_policy.py:502: RuntimeWarning: Precision loss occurred in moment calculation due to catastrophic cancellation. This occurs when the data are nearly identical. Results may be unreliable.\n",
      "  res = hypotest_fun_out(*samples, **kwds)\n",
      "E:\\anaconda\\lib\\site-packages\\scipy\\stats\\_stats_py.py:1214: RuntimeWarning: divide by zero encountered in divide\n",
      "  var *= np.divide(n, n-ddof)  # to avoid error on division by zero\n",
      "E:\\anaconda\\lib\\site-packages\\scipy\\stats\\_stats_py.py:1214: RuntimeWarning: invalid value encountered in scalar multiply\n",
      "  var *= np.divide(n, n-ddof)  # to avoid error on division by zero\n"
     ]
    }
   ],
   "source": [
    "import scipy.stats as stats\n",
    "\n",
    "# Sample data\n",
    "sample_mean = 6  # Sample mean\n",
    "sample_std_dev = 2.5  # Sample standard deviation\n",
    "sample_size = 50  # Sample size\n",
    "\n",
    "# Hypothesized population mean (null hypothesis)\n",
    "population_mean = 0\n",
    "\n",
    "# Perform the one-sample t-test\n",
    "t_statistic, p_value = stats.ttest_1samp(sample_size, population_mean)\n",
    "\n",
    "# Define the significance level\n",
    "alpha = 0.05\n",
    "\n",
    "# Print the results\n",
    "print(f\"Sample Mean: {sample_mean}\")\n",
    "print(f\"T-Statistic: {t_statistic}\")\n",
    "print(f\"P-Value: {p_value}\")\n",
    "\n",
    "# Check if the p-value is less than the significance level\n",
    "if p_value < alpha:\n",
    "    print(\"Reject the null hypothesis. The drug is significantly effective.\")\n",
    "else:\n",
    "    print(\"Fail to reject the null hypothesis. The drug is not significantly effective.\")\n"
   ]
  },
  {
   "cell_type": "code",
   "execution_count": null,
   "id": "14352907",
   "metadata": {},
   "outputs": [],
   "source": []
  },
  {
   "cell_type": "markdown",
   "id": "00d8a4b3",
   "metadata": {},
   "source": [
    "# Q11. In a survey of 500 people, 65% reported being satisfied with their current job. Calculate the 95% confidence interval for the true proportion of people who are satisfied with their job."
   ]
  },
  {
   "cell_type": "raw",
   "id": "e837c4d5",
   "metadata": {},
   "source": [
    "To calculate the 95% confidence interval for the true proportion of people who are satisfied with their job, you can use the following formula for the confidence interval for a population proportion:\n",
    "\n",
    "\n",
    "Step 1: Set Up Hypotheses:- There are no hypotheses to set up in this case; we are estimating a population parameter.\n",
    "\n",
    "\n",
    "\n",
    "Step 2: Collect Data\n",
    "\n",
    "You have the following data:\n",
    "\n",
    "Sample proportion (^p) = 0.65\n",
    "Sample size (n) = 500\n",
    "\n",
    "\n",
    "Step 3: Define the Significance Level\n",
    "\n",
    "Given a confidence level of 95%, you can calculate the significance level (α) \n",
    "as 1−confidence level = 0.05\n",
    "\n",
    "\n",
    "Step 4: Calculate the Standard Error\n",
    "\n",
    "\n",
    "Step 5: Find the Critical Z-Value(s)\n",
    "\n",
    "At a confidence level of 95%, you can find the critical z-values using a standard normal distribution table or a statistical calculator. For a two-tailed test, you'll find the critical z-values that split the 0.05 significance level equally into two tails.\n",
    "For a 95% confidence interval, the critical z-value is approximately 1.96.\n",
    "\n",
    "\n",
    "Step 6: Calculate the Margin of Error\n",
    "\n",
    "Step 7: Calculate the Confidence Interval and make a decision"
   ]
  },
  {
   "cell_type": "code",
   "execution_count": 1,
   "id": "075f6ef0",
   "metadata": {},
   "outputs": [
    {
     "name": "stdout",
     "output_type": "stream",
     "text": [
      "95% Confidence Interval: (0.6082, 0.6918)\n"
     ]
    }
   ],
   "source": [
    "import scipy.stats as stats\n",
    "\n",
    "# Given data\n",
    "sample_proportion = 0.65  # 65% satisfaction rate\n",
    "confidence_level = 0.95  # 95% confidence level\n",
    "sample_size = 500\n",
    "\n",
    "# Calculate the Z-score for the desired confidence level\n",
    "z_score = stats.norm.ppf((1 + confidence_level) / 2)\n",
    "\n",
    "# Calculate the standard error\n",
    "standard_error = (sample_proportion * (1 - sample_proportion)) / sample_size\n",
    "\n",
    "# Calculate the margin of error\n",
    "margin_of_error = z_score * (standard_error ** 0.5)\n",
    "\n",
    "# Calculate the lower and upper bounds of the confidence interval\n",
    "lower_bound = sample_proportion - margin_of_error\n",
    "upper_bound = sample_proportion + margin_of_error\n",
    "\n",
    "# Print the confidence interval\n",
    "print(f\"95% Confidence Interval: ({lower_bound:.4f}, {upper_bound:.4f})\")\n"
   ]
  },
  {
   "cell_type": "code",
   "execution_count": null,
   "id": "5142e777",
   "metadata": {},
   "outputs": [],
   "source": []
  },
  {
   "cell_type": "raw",
   "id": "093e3856",
   "metadata": {},
   "source": [
    "Q12. A researcher is testing the effectiveness of two different teaching methods on student performance.\n",
    "Sample A has a mean score of 85 with a standard deviation of 6, while sample B has a mean score of 82\n",
    "with a standard deviation of 5. Conduct a hypothesis test to determine if the two teaching methods have a\n",
    "significant difference in student performance using a t-test with a significance level of 0.01."
   ]
  },
  {
   "cell_type": "raw",
   "id": "9a4f0ad6",
   "metadata": {},
   "source": [
    "To determine if there is a significant difference in student performance between the two teaching methods, you can perform a two-sample independent t-test. Here's how you can conduct this test step by step:\n",
    "\n",
    "Step 1: Define the hypotheses:\n",
    "\n",
    "Null Hypothesis (H0): The two teaching methods have no significant difference in student performance. In mathematical notation, this can be written as H0: μ1 = μ2, where μ1 is the mean score for sample A, and μ2 is the mean score for sample B.\n",
    "Alternative Hypothesis (H1): The two teaching methods do have a significant difference in student performance. In mathematical notation, this can be written as H1: μ1 ≠ μ2.\n",
    "\n",
    "Step 2: Set the significance level (α):\n",
    "In this case, the significance level (α) is given as 0.01, which means we want a 99% confidence level.\n",
    "\n",
    "\n",
    "Step 3: Collect and analyze the data:\n",
    "\n",
    "You already have the sample statistics:\n",
    "\n",
    "Sample A (Teaching Method 1): Mean (μ1) = 85, Standard Deviation (σ1) = 6\n",
    "Sample B (Teaching Method 2): Mean (μ2) = 82, Standard Deviation (σ2) = 5\n",
    "\n",
    "Step 4: Calculate the test statistic:\n",
    "\n",
    "Step 5: Determine the critical value:\n",
    "\n",
    "Step 6: Compare the test statistic with the critical value:\n",
    "Step 7: Make a decision:"
   ]
  },
  {
   "cell_type": "raw",
   "id": "9262ccc4",
   "metadata": {},
   "source": []
  },
  {
   "cell_type": "raw",
   "id": "bbda19ad",
   "metadata": {},
   "source": [
    "Q13. A population has a mean of 60 and a standard deviation of 8. A sample of 50 observations has a mean\n",
    "of 65. Calculate the 90% confidence interval for the true population mean."
   ]
  },
  {
   "cell_type": "raw",
   "id": "d627f045",
   "metadata": {},
   "source": [
    "To calculate the 90% confidence interval for the true population mean, you can follow these steps:\n",
    "\n",
    "Step 1: Set Up Hypotheses\n",
    "\n",
    "In this case, you are not conducting a hypothesis test, but you want to estimate a population parameter. There are no specific null or alternative hypotheses to set up.\n",
    "\n",
    "\n",
    "Step 2: Collect Data\n",
    "\n",
    "You have the following data:\n",
    "Population mean (μ) = 60\n",
    "Population standard deviation (σ) = 8\n",
    "Sample mean (ˉXˉ) = 65\n",
    "Sample size (n) = 50\n",
    "\n",
    "Step 3: Define the Significance Level\n",
    "\n",
    "In this context, the significance level is not relevant because you're not conducting a hypothesis test. Instead, you're estimating a population parameter with a confidence interval.\n",
    "\n",
    "\n",
    "Step 4: Calculate the Standard Error\n",
    "\n",
    "\n",
    "\n",
    "Step 5: Find the Critical Z-Value(s)\n",
    "\n",
    "For a 90% confidence interval, you need to find the critical z-values corresponding to the desired confidence level. You can use a standard normal distribution table or a statistical calculator.\n",
    "\n",
    "For a 90% confidence interval, the critical z-values are approximately -1.645 and 1.645. These values split the 0.10 significance level into two tails.\n",
    "\n",
    "\n",
    "\n",
    "Step 6: Calculate the Margin of Error:\n",
    "\n",
    "Step 7: Calculate the Confidence Interval\n",
    "\n",
    "and Interpret the results\n",
    " "
   ]
  },
  {
   "cell_type": "code",
   "execution_count": 3,
   "id": "c1cd4247",
   "metadata": {},
   "outputs": [
    {
     "name": "stdout",
     "output_type": "stream",
     "text": [
      "90.0% Confidence Interval: (63.1391, 66.8609)\n"
     ]
    }
   ],
   "source": [
    "import scipy.stats as stats\n",
    "\n",
    "# Given data\n",
    "sample_mean = 65\n",
    "sample_std_deviation = 8\n",
    "sample_size = 50\n",
    "confidence_level = 0.90\n",
    "\n",
    "# Calculate the critical Z value\n",
    "z_value = stats.norm.ppf(1 - (1 - confidence_level) / 2)\n",
    "\n",
    "# Calculate the standard error\n",
    "standard_error = sample_std_deviation / (sample_size ** 0.5)\n",
    "\n",
    "# Calculate the margin of error\n",
    "margin_of_error = z_value * standard_error\n",
    "\n",
    "# Calculate the confidence interval\n",
    "lower_bound = sample_mean - margin_of_error\n",
    "upper_bound = sample_mean + margin_of_error\n",
    "\n",
    "# Print the confidence interval\n",
    "print(f\"{confidence_level*100}% Confidence Interval: ({lower_bound:.4f}, {upper_bound:.4f})\")\n"
   ]
  },
  {
   "cell_type": "code",
   "execution_count": null,
   "id": "682710b3",
   "metadata": {},
   "outputs": [],
   "source": []
  },
  {
   "cell_type": "raw",
   "id": "82b50d27",
   "metadata": {},
   "source": [
    "Q14. In a study of the effects of caffeine on reaction time, a sample of 30 participants had an average\n",
    "reaction time of 0.25 seconds with a standard deviation of 0.05 seconds. Conduct a hypothesis test to\n",
    "determine if the caffeine has a significant effect on reaction time at a 90% confidence level using a t-test."
   ]
  },
  {
   "cell_type": "raw",
   "id": "b01ba126",
   "metadata": {},
   "source": [
    "o conduct a hypothesis test to determine if caffeine has a significant effect on reaction time using a t-test at a 90% confidence level, you can follow these steps:\n",
    "\n",
    "Step 1: Set Up Hypotheses\n",
    "\n",
    "Null Hypothesis (H0): Caffeine has no significant effect on reaction time, meaning the population mean reaction time (μ) is equal to a specific value (e.g., 0.25 seconds).\n",
    "Alternative Hypothesis (H1): Caffeine has a significant effect on reaction time, meaning the population mean reaction time (μ) is not equal to a specific value (e.g., not equal to 0.25 seconds).\n",
    "\n",
    "\n",
    "Sample standard deviation (σ) = 0.05 sec\n",
    "Sample mean (ˉXˉ) = 0.25 sec\n",
    "Sample size (n) = 30\n",
    "\n",
    "Step 3: Define the Significance Level\n",
    "\n",
    "Given a confidence level of 90%, you can calculate the significance level (α) as 1−confidence level=0.10\n",
    "\n",
    "\n",
    "Step 4: Calculate the t-Statistic\n",
    "\n",
    "\n",
    "Step 5: Determine Degrees of Freedom\n",
    "\n",
    "Degrees of freedom (df) for a one-sample t-test are calculated as n−1.\n",
    "\n",
    "\n",
    "\n",
    "Step 6: Find the Critical t-Value(s)\n",
    "\n",
    "At a confidence level of 90%, you can find the critical t-values using a t-table or a statistical calculator. For a two-tailed test (because you are testing if μ is not equal to 0.25 seconds), you'll find the critical t-values that split the 0.10 significance level equally into two tails.\n",
    "\n",
    "\n",
    "Step 7: Calculate the p-Value\n",
    "\n",
    "The p-value represents the probability of observing a t-statistic as extreme as the one calculated under the null hypothesis.\n",
    "\n",
    "Step 8: Make a Decision\n",
    "\n",
    "Compare the calculated t-statistic to the critical t-value(s). If the absolute value of the t-statistic is greater than the critical t-value, you reject the null hypothesis. Otherwise, you fail to reject the null hypothesis.\n",
    "\n",
    "\n",
    "Step 9: Interpret the Results\n",
    "If you reject the null hypothesis, you conclude that caffeine has a significant effect on reaction time. If you fail to reject the null hypothesis, you do not find significant evidence of an effect.\n"
   ]
  },
  {
   "cell_type": "code",
   "execution_count": 4,
   "id": "70689c34",
   "metadata": {},
   "outputs": [
    {
     "name": "stdout",
     "output_type": "stream",
     "text": [
      "Fail to reject the null hypothesis: Caffeine has no significant effect on reaction time.\n",
      "t-statistic: 0.0\n",
      "p-value: 1.0\n",
      "critical t-value: 1.6991270265334972\n"
     ]
    }
   ],
   "source": [
    "import scipy.stats as stats\n",
    "\n",
    "# Given data\n",
    "sample_mean = 0.25  # Average reaction time\n",
    "sample_std_deviation = 0.05  # Standard deviation\n",
    "sample_size = 30  # Sample size\n",
    "confidence_level = 0.90  # 90% confidence level\n",
    "\n",
    "# Null hypothesis (H0): Caffeine has no significant effect on reaction time (mean reaction time = 0.25 seconds)\n",
    "# Alternative hypothesis (H1): Caffeine has a significant effect on reaction time (mean reaction time is not equal to 0.25 seconds)\n",
    "\n",
    "# Calculate the t-statistic\n",
    "t_statistic = (sample_mean - 0.25) / (sample_std_deviation / (sample_size ** 0.5))\n",
    "\n",
    "# Calculate degrees of freedom\n",
    "degrees_of_freedom = sample_size - 1\n",
    "\n",
    "# Calculate the critical t-value for a two-tailed test at the desired confidence level\n",
    "alpha = 1 - confidence_level\n",
    "critical_t_value = stats.t.ppf(1 - alpha / 2, degrees_of_freedom)\n",
    "\n",
    "# Calculate the p-value for a two-tailed test\n",
    "p_value = 2 * (1 - stats.t.cdf(abs(t_statistic), degrees_of_freedom))\n",
    "\n",
    "# Perform the hypothesis test\n",
    "if abs(t_statistic) > critical_t_value:\n",
    "    print(\"Reject the null hypothesis: Caffeine has a significant effect on reaction time.\")\n",
    "else:\n",
    "    print(\"Fail to reject the null hypothesis: Caffeine has no significant effect on reaction time.\")\n",
    "\n",
    "# Print t-statistic, p-value, and critical t-value\n",
    "print(\"t-statistic:\", t_statistic)\n",
    "print(\"p-value:\", p_value)\n",
    "print(\"critical t-value:\", critical_t_value)\n"
   ]
  },
  {
   "cell_type": "code",
   "execution_count": null,
   "id": "fb3f331a",
   "metadata": {},
   "outputs": [],
   "source": []
  }
 ],
 "metadata": {
  "kernelspec": {
   "display_name": "Python 3 (ipykernel)",
   "language": "python",
   "name": "python3"
  },
  "language_info": {
   "codemirror_mode": {
    "name": "ipython",
    "version": 3
   },
   "file_extension": ".py",
   "mimetype": "text/x-python",
   "name": "python",
   "nbconvert_exporter": "python",
   "pygments_lexer": "ipython3",
   "version": "3.9.12"
  }
 },
 "nbformat": 4,
 "nbformat_minor": 5
}
